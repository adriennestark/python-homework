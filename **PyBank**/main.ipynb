{
 "cells": [
  {
   "cell_type": "code",
   "execution_count": 36,
   "metadata": {},
   "outputs": [
    {
     "name": "stdout",
     "output_type": "stream",
     "text": [
      "/Users/pinkythelaptop/Desktop/python-homework/**PyBank**\n"
     ]
    }
   ],
   "source": [
    "# import path\n",
    "\n",
    "from pathlib import Path\n",
    "\n",
    "import csv\n",
    "\n",
    "print(f\"{Path.cwd()}\")"
   ]
  },
  {
   "cell_type": "code",
   "execution_count": 32,
   "metadata": {},
   "outputs": [],
   "source": [
    "# create variable for csv path\n",
    "csvpath=\"\""
   ]
  },
  {
   "cell_type": "code",
   "execution_count": 43,
   "metadata": {},
   "outputs": [
    {
     "name": "stdout",
     "output_type": "stream",
     "text": [
      "['Date', 'Profit/Losses']\n"
     ]
    }
   ],
   "source": [
    "# import budget_data \n",
    "\n",
    "csvpath = Path(\"budget_data.csv\")\n",
    "\n",
    "with open(csvpath,'r') as csvfile:\n",
    "\n",
    "    csvreader = csv.reader(csvfile, delimiter=\",\")\n",
    "    print(next(csvreader))"
   ]
  },
  {
   "cell_type": "code",
   "execution_count": null,
   "metadata": {},
   "outputs": [],
   "source": [
    "# initialize variables"
   ]
  },
  {
   "cell_type": "code",
   "execution_count": null,
   "metadata": {},
   "outputs": [],
   "source": [
    "# calculate total amount of profit/losses over entire period"
   ]
  },
  {
   "cell_type": "code",
   "execution_count": null,
   "metadata": {},
   "outputs": [],
   "source": [
    "# use for loop to iterate over file to find greatest increase in profits"
   ]
  },
  {
   "cell_type": "code",
   "execution_count": null,
   "metadata": {},
   "outputs": [],
   "source": [
    "# find greatest decrease in profits"
   ]
  },
  {
   "cell_type": "code",
   "execution_count": null,
   "metadata": {},
   "outputs": [],
   "source": [
    "# create output table with f strings"
   ]
  },
  {
   "cell_type": "code",
   "execution_count": null,
   "metadata": {},
   "outputs": [],
   "source": [
    "## PyBank\n",
    "\n",
    "![Revenue](Images/revenue-per-lead.jpg)\n",
    "\n",
    "In this activity, you are tasked with creating a Python script for analyzing the financial records of your company. You will be provided with a financial dataset in this file: [budget_data.csv](PyBank/Resources/budget_data.csv). This dataset is composed of two columns, Date and Profit/Losses. (Thankfully, your company has rather lax standards for accounting, so the records are simple.)\n",
    "\n",
    "Your task is to create a Python script that analyzes the records to calculate each of the following:\n",
    "\n",
    "* The total number of months included in the dataset.\n",
    "\n",
    "* The net total amount of Profit/Losses over the entire period.\n",
    "\n",
    "* The average of the changes in Profit/Losses over the entire period.\n",
    "\n",
    "* The greatest increase in profits (date and amount) over the entire period.\n",
    "\n",
    "* The greatest decrease in losses (date and amount) over the entire period.\n",
    "\n",
    "Your resulting analysis should look similar to the following:\n",
    "\n",
    "  ```text\n",
    "  Financial Analysis\n",
    "  ----------------------------\n",
    "  Total Months: 86\n",
    "  Total: $38382578\n",
    "  Average  Change: $-2315.12\n",
    "  Greatest Increase in Profits: Feb-2012 ($1926159)\n",
    "  Greatest Decrease in Profits: Sep-2013 ($-2196167)\n",
    "  ```"
   ]
  }
 ],
 "metadata": {
  "kernelspec": {
   "display_name": "Python 3",
   "language": "python",
   "name": "python3"
  },
  "language_info": {
   "codemirror_mode": {
    "name": "ipython",
    "version": 3
   },
   "file_extension": ".py",
   "mimetype": "text/x-python",
   "name": "python",
   "nbconvert_exporter": "python",
   "pygments_lexer": "ipython3",
   "version": "3.8.3"
  }
 },
 "nbformat": 4,
 "nbformat_minor": 4
}
