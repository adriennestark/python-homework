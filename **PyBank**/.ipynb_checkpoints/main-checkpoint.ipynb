{
 "cells": [
  {
   "cell_type": "code",
   "execution_count": 2,
   "metadata": {},
   "outputs": [
    {
     "name": "stdout",
     "output_type": "stream",
     "text": [
      "/Users/pinkythelaptop/Desktop/python-homework/**PyBank**\n"
     ]
    }
   ],
   "source": [
    "# import path\n",
    "\n",
    "from pathlib import Path\n",
    "\n",
    "import csv"
   ]
  },
  {
   "cell_type": "code",
   "execution_count": 3,
   "metadata": {},
   "outputs": [],
   "source": [
    "# create variable for csv path\n",
    "csvpath=\"\""
   ]
  },
  {
   "cell_type": "code",
   "execution_count": 27,
   "metadata": {},
   "outputs": [],
   "source": [
    "# initialize variables\n",
    "\n",
    "month = []\n",
    "pnl = []\n",
    "monthly_changes = []\n",
    "count_months = 0\n",
    "previous_month_pnl = 0\n",
    "average_change_pnl=0\n",
    "total_profit = 0\n",
    "change = 0\n",
    "greatest_increase = 0\n",
    "greatest_increase_month = \"\"\n",
    "greatest_decrease = 0\n",
    "greatest_decrease_month = \"\""
   ]
  },
  {
   "cell_type": "code",
   "execution_count": 28,
   "metadata": {},
   "outputs": [],
   "source": [
    "# read budget_data.csv validate by printing data \n",
    "# append column for monthly change\n",
    "\n",
    "csvpath = Path(\"./budget_data.csv\")\n",
    "\n",
    "\n",
    "with open(csvpath, 'r') as csvfile:\n",
    "    csvreader = csv.reader(csvfile, delimiter=',')\n",
    "    csv_header = next(csvreader)\n",
    "    for row in csvreader:\n",
    "        month=row[0]\n",
    "        pnl=int(row[1])\n",
    "        count_months += 1\n",
    "        total_profit += pnl\n",
    "        change = pnl - previous_month_pnl\n",
    "        monthly_changes.append(change) \n",
    "        \n",
    "        if greatest_decrease == 0:\n",
    "            greatest_decrease = change\n",
    "            greatest_decrease_month = month\n",
    "        elif change > greatest_increase:\n",
    "            greatest_increase = change\n",
    "            greatest_increase_month = month\n",
    "        elif change < greatest_decrease:\n",
    "            greatest_decrease = change\n",
    "            greatest_decrease_month = month\n",
    "        \n",
    "        previous_month_pnl = pnl\n",
    "        "
   ]
  },
  {
   "cell_type": "code",
   "execution_count": 30,
   "metadata": {},
   "outputs": [
    {
     "name": "stdout",
     "output_type": "stream",
     "text": [
      "-2315.12\n"
     ]
    }
   ],
   "source": [
    "# calculate average gain/loss calculate average change in profit\n",
    "average_change_pnl= round(sum(monthly_changes[1:])/(count_months-1),2)"
   ]
  },
  {
   "cell_type": "code",
   "execution_count": 34,
   "metadata": {},
   "outputs": [
    {
     "name": "stdout",
     "output_type": "stream",
     "text": [
      "---------Financial Analyis----------\n",
      "Total months: 86\n",
      "Total: 38382578\n",
      "Average change: 0\n",
      "Greatest Increase in Profit: Feb-2012 1926159\n",
      "Greatest Decrease in Profits: Sep-2013 -2196167\n"
     ]
    }
   ],
   "source": [
    "# create output table with f strings\n",
    "\n",
    "print(\"---------Financial Analyis----------\")\n",
    "print(f\"Total months: {count_months}\")\n",
    "print(f\"Total: {total_profit}\")\n",
    "print(f\"Average change: {average_pnl}\")\n",
    "print(f\"Greatest Increase in Profit: {greatest_increase_month} {greatest_increase}\")\n",
    "print(f\"Greatest Decrease in Profits: {greatest_decrease_month} {greatest_decrease}\")\n"
   ]
  },
  {
   "cell_type": "code",
   "execution_count": 37,
   "metadata": {},
   "outputs": [],
   "source": [
    "# create output as text file\n",
    "\n",
    "output_path = Path(\"output.txt\")\n",
    "\n",
    "with open(output_path, 'w') as file:\n",
    "    file.write(\"---------Financial Analyis----------\\n\")\n",
    "    file.write(f\"Total months: {count_months}\\n\")\n",
    "    file.write(f\"Total: {total_profit}\\n\")\n",
    "    file.write(f\"Average change: {average_pnl}\\n\")\n",
    "    file.write(f\"Greatest Increase in Profit: {greatest_increase_month} {greatest_increase}\\n\")\n",
    "    file.write(f\"Greatest Decrease in Profits: {greatest_decrease_month} {greatest_decrease}\\n\")"
   ]
  },
  {
   "cell_type": "code",
   "execution_count": null,
   "metadata": {},
   "outputs": [],
   "source": []
  }
 ],
 "metadata": {
  "kernelspec": {
   "display_name": "Python 3",
   "language": "python",
   "name": "python3"
  },
  "language_info": {
   "codemirror_mode": {
    "name": "ipython",
    "version": 3
   },
   "file_extension": ".py",
   "mimetype": "text/x-python",
   "name": "python",
   "nbconvert_exporter": "python",
   "pygments_lexer": "ipython3",
   "version": "3.8.3"
  }
 },
 "nbformat": 4,
 "nbformat_minor": 4
}
